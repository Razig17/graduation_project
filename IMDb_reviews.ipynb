{
  "nbformat": 4,
  "nbformat_minor": 0,
  "metadata": {
    "colab": {
      "provenance": [],
      "gpuType": "T4",
      "authorship_tag": "ABX9TyPRfwOgl94L/5WKWeTk/SbX",
      "include_colab_link": true
    },
    "kernelspec": {
      "name": "python3",
      "display_name": "Python 3"
    },
    "language_info": {
      "name": "python"
    },
    "accelerator": "GPU"
  },
  "cells": [
    {
      "cell_type": "markdown",
      "metadata": {
        "id": "view-in-github",
        "colab_type": "text"
      },
      "source": [
        "<a href=\"https://colab.research.google.com/github/Razig17/graduation_project/blob/main/IMDb_reviews.ipynb\" target=\"_parent\"><img src=\"https://colab.research.google.com/assets/colab-badge.svg\" alt=\"Open In Colab\"/></a>"
      ]
    },
    {
      "source": [
        "import tensorflow as tf\n",
        "from tensorflow.keras.datasets import imdb\n",
        "from tensorflow.keras.preprocessing.sequence import pad_sequences\n",
        "\n",
        "# Load the IMDb dataset\n",
        "vocab_size = 40000  # Use top 40,000 words from the IMDb dataset\n",
        "maxlen = 200        # Fixed length for all sequences\n",
        "\n",
        "(x_train, y_train), (x_test, y_test) = imdb.load_data(num_words=vocab_size)\n",
        "\n",
        "# Pad sequences to ensure equal length\n",
        "x_train = pad_sequences(x_train, maxlen=maxlen, padding='post', truncating='post')\n",
        "x_test = pad_sequences(x_test, maxlen=maxlen, padding='post', truncating='post')"
      ],
      "cell_type": "code",
      "metadata": {
        "id": "PmAyYf-dQRAR"
      },
      "execution_count": null,
      "outputs": []
    },
    {
      "source": [
        "from tensorflow.keras.models import Sequential\n",
        "from tensorflow.keras.layers import Embedding, LSTM, Dense\n",
        "\n",
        "# Build the model\n",
        "model = Sequential([\n",
        "    Embedding(input_dim=vocab_size, output_dim=64),\n",
        "    LSTM(128),\n",
        "    Dense(1, activation='sigmoid')\n",
        "])"
      ],
      "cell_type": "code",
      "metadata": {
        "id": "u_kb5o1yQRnY"
      },
      "execution_count": null,
      "outputs": []
    },
    {
      "source": [
        "# Compile the model\n",
        "model.compile(\n",
        "    loss='binary_crossentropy',\n",
        "    optimizer='adam',\n",
        "    metrics=['accuracy']\n",
        ")\n",
        "\n",
        "# Train the model\n",
        "history = model.fit(\n",
        "    x_train, y_train,\n",
        "    validation_split=0.2,\n",
        "    epochs=5,\n",
        "    batch_size=64\n",
        ")"
      ],
      "cell_type": "code",
      "metadata": {
        "id": "mRVhGY96QSA9",
        "colab": {
          "base_uri": "https://localhost:8080/"
        },
        "outputId": "fc20dfe5-32b6-4553-bd44-0f9222afa80b"
      },
      "execution_count": null,
      "outputs": [
        {
          "output_type": "stream",
          "name": "stdout",
          "text": [
            "Epoch 1/5\n",
            "\u001b[1m313/313\u001b[0m \u001b[32m━━━━━━━━━━━━━━━━━━━━\u001b[0m\u001b[37m\u001b[0m \u001b[1m6s\u001b[0m 14ms/step - accuracy: 0.5081 - loss: 0.6936 - val_accuracy: 0.5256 - val_loss: 0.6902\n",
            "Epoch 2/5\n",
            "\u001b[1m313/313\u001b[0m \u001b[32m━━━━━━━━━━━━━━━━━━━━\u001b[0m\u001b[37m\u001b[0m \u001b[1m5s\u001b[0m 13ms/step - accuracy: 0.5686 - loss: 0.6782 - val_accuracy: 0.6030 - val_loss: 0.6328\n",
            "Epoch 3/5\n",
            "\u001b[1m313/313\u001b[0m \u001b[32m━━━━━━━━━━━━━━━━━━━━\u001b[0m\u001b[37m\u001b[0m \u001b[1m5s\u001b[0m 15ms/step - accuracy: 0.6248 - loss: 0.6075 - val_accuracy: 0.5494 - val_loss: 0.6756\n",
            "Epoch 4/5\n",
            "\u001b[1m313/313\u001b[0m \u001b[32m━━━━━━━━━━━━━━━━━━━━\u001b[0m\u001b[37m\u001b[0m \u001b[1m5s\u001b[0m 13ms/step - accuracy: 0.6503 - loss: 0.5561 - val_accuracy: 0.6160 - val_loss: 0.6561\n",
            "Epoch 5/5\n",
            "\u001b[1m313/313\u001b[0m \u001b[32m━━━━━━━━━━━━━━━━━━━━\u001b[0m\u001b[37m\u001b[0m \u001b[1m4s\u001b[0m 13ms/step - accuracy: 0.8288 - loss: 0.3949 - val_accuracy: 0.8238 - val_loss: 0.4486\n"
          ]
        }
      ]
    },
    {
      "source": [
        "# Evaluate the model on the test set\n",
        "test_loss, test_accuracy = model.evaluate(x_test, y_test)\n",
        "print(f\"Test Accuracy: {test_accuracy * 100:.2f} %\")"
      ],
      "cell_type": "code",
      "metadata": {
        "colab": {
          "base_uri": "https://localhost:8080/"
        },
        "id": "gX42y7VuQSdb",
        "outputId": "44cf1ff2-a360-4ef1-8de5-b8312bfd64c9"
      },
      "execution_count": null,
      "outputs": [
        {
          "output_type": "stream",
          "name": "stdout",
          "text": [
            "\u001b[1m782/782\u001b[0m \u001b[32m━━━━━━━━━━━━━━━━━━━━\u001b[0m\u001b[37m\u001b[0m \u001b[1m3s\u001b[0m 4ms/step - accuracy: 0.7980 - loss: 0.4864\n",
            "Test Accuracy: 79.75 %\n"
          ]
        }
      ]
    },
    {
      "source": [
        "new_review = \"I did not enjoy this movie.\"\n",
        "# Tokenize and preprocess the new review\n",
        "word_index = imdb.get_word_index()\n",
        "sequence = [[word_index.get(word, 0) for word in new_review.lower().split()]]\n",
        "padded_sequence = pad_sequences(sequence, maxlen=maxlen, padding='post', truncating='post')\n",
        "\n",
        "# Predict the sentiment\n",
        "prediction = model.predict(padded_sequence)\n",
        "sentiment = \"Positive\" if prediction[0] > 0.5 else \"Negative\"\n",
        "print(f\"The sentiment of the review is: {sentiment}\")"
      ],
      "cell_type": "code",
      "metadata": {
        "colab": {
          "base_uri": "https://localhost:8080/"
        },
        "id": "CnB0fD0TQS1s",
        "outputId": "ed58d25f-fa17-4545-ce81-77feac560258"
      },
      "execution_count": null,
      "outputs": [
        {
          "output_type": "stream",
          "name": "stdout",
          "text": [
            "\u001b[1m1/1\u001b[0m \u001b[32m━━━━━━━━━━━━━━━━━━━━\u001b[0m\u001b[37m\u001b[0m \u001b[1m0s\u001b[0m 21ms/step\n",
            "The sentiment of the review is: Negative\n"
          ]
        }
      ]
    }
  ]
}