{
  "nbformat": 4,
  "nbformat_minor": 0,
  "metadata": {
    "colab": {
      "provenance": [],
      "gpuType": "T4"
    },
    "kernelspec": {
      "name": "python3",
      "display_name": "Python 3"
    },
    "language_info": {
      "name": "python"
    },
    "accelerator": "GPU"
  },
  "cells": [
    {
      "source": [
        "import tensorflow as tf\n",
        "from tensorflow.keras.datasets import imdb\n",
        "from tensorflow.keras.preprocessing.sequence import pad_sequences\n",
        "\n",
        "# Load the IMDb dataset\n",
        "vocab_size = 80000  # Use top 40,000 words from the IMDb dataset\n",
        "maxlen = 200        # Fixed length for all sequences\n",
        "\n",
        "(x_train, y_train), (x_test, y_test) = imdb.load_data(num_words=vocab_size)\n",
        "\n",
        "# Pad sequences to ensure equal length\n",
        "x_train = pad_sequences(x_train, maxlen=maxlen, padding='post', truncating='post')\n",
        "x_test = pad_sequences(x_test, maxlen=maxlen, padding='post', truncating='post')"
      ],
      "cell_type": "code",
      "metadata": {
        "id": "PmAyYf-dQRAR"
      },
      "execution_count": null,
      "outputs": []
    },
    {
      "source": [
        "from tensorflow.keras.models import Sequential\n",
        "from tensorflow.keras.layers import Embedding, LSTM, Dense\n",
        "\n",
        "# Build the model\n",
        "model = Sequential([\n",
        "    Embedding(input_dim=vocab_size, output_dim=64),\n",
        "    LSTM(128),\n",
        "    Dense(1, activation='sigmoid')\n",
        "])"
      ],
      "cell_type": "code",
      "metadata": {
        "id": "u_kb5o1yQRnY"
      },
      "execution_count": null,
      "outputs": []
    },
    {
      "source": [
        "# Compile the model\n",
        "model.compile(\n",
        "    loss='binary_crossentropy',\n",
        "    optimizer='adam',\n",
        "    metrics=['accuracy']\n",
        ")\n",
        "\n",
        "# Train the model\n",
        "history = model.fit(\n",
        "    x_train, y_train,\n",
        "    validation_split=0.1,\n",
        "    epochs=5,\n",
        "    batch_size=64\n",
        ")"
      ],
      "cell_type": "code",
      "metadata": {
        "id": "mRVhGY96QSA9",
        "colab": {
          "base_uri": "https://localhost:8080/"
        },
        "outputId": "d0b39231-ebb7-48e3-ebaf-63bfcd97f4a9"
      },
      "execution_count": null,
      "outputs": [
        {
          "output_type": "stream",
          "name": "stdout",
          "text": [
            "Epoch 1/5\n",
            "\u001b[1m352/352\u001b[0m \u001b[32m━━━━━━━━━━━━━━━━━━━━\u001b[0m\u001b[37m\u001b[0m \u001b[1m6s\u001b[0m 12ms/step - accuracy: 0.5043 - loss: 0.6934 - val_accuracy: 0.5264 - val_loss: 0.6951\n",
            "Epoch 2/5\n",
            "\u001b[1m352/352\u001b[0m \u001b[32m━━━━━━━━━━━━━━━━━━━━\u001b[0m\u001b[37m\u001b[0m \u001b[1m4s\u001b[0m 12ms/step - accuracy: 0.5481 - loss: 0.6812 - val_accuracy: 0.7616 - val_loss: 0.5463\n",
            "Epoch 3/5\n",
            "\u001b[1m352/352\u001b[0m \u001b[32m━━━━━━━━━━━━━━━━━━━━\u001b[0m\u001b[37m\u001b[0m \u001b[1m5s\u001b[0m 13ms/step - accuracy: 0.6120 - loss: 0.6372 - val_accuracy: 0.5328 - val_loss: 0.6903\n",
            "Epoch 4/5\n",
            "\u001b[1m352/352\u001b[0m \u001b[32m━━━━━━━━━━━━━━━━━━━━\u001b[0m\u001b[37m\u001b[0m \u001b[1m4s\u001b[0m 11ms/step - accuracy: 0.5697 - loss: 0.6694 - val_accuracy: 0.5304 - val_loss: 0.6881\n",
            "Epoch 5/5\n",
            "\u001b[1m352/352\u001b[0m \u001b[32m━━━━━━━━━━━━━━━━━━━━\u001b[0m\u001b[37m\u001b[0m \u001b[1m6s\u001b[0m 13ms/step - accuracy: 0.6264 - loss: 0.6168 - val_accuracy: 0.8264 - val_loss: 0.4342\n"
          ]
        }
      ]
    },
    {
      "source": [
        "# Evaluate the model on the test set\n",
        "test_loss, test_accuracy = model.evaluate(x_test, y_test)\n",
        "print(f\"Test Accuracy: {test_loss }\")"
      ],
      "cell_type": "code",
      "metadata": {
        "colab": {
          "base_uri": "https://localhost:8080/"
        },
        "id": "gX42y7VuQSdb",
        "outputId": "a8293135-4317-4c95-f6d4-e729002a2415"
      },
      "execution_count": null,
      "outputs": [
        {
          "output_type": "stream",
          "name": "stdout",
          "text": [
            "\u001b[1m782/782\u001b[0m \u001b[32m━━━━━━━━━━━━━━━━━━━━\u001b[0m\u001b[37m\u001b[0m \u001b[1m5s\u001b[0m 6ms/step - accuracy: 0.8184 - loss: 0.4404\n",
            "Test Accuracy: 0.443551242351532\n"
          ]
        }
      ]
    },
    {
      "cell_type": "code",
      "source": [
        "print(x_test,y_test,sep=\"\\n\\n\")"
      ],
      "metadata": {
        "colab": {
          "base_uri": "https://localhost:8080/"
        },
        "id": "4eGZjsAjeej1",
        "outputId": "50245a9c-04e8-4c91-b3d3-412a9054f161"
      },
      "execution_count": null,
      "outputs": [
        {
          "output_type": "stream",
          "name": "stdout",
          "text": [
            "[[   1  591  202 ...    0    0    0]\n",
            " [   1   14   22 ... 2033   19 7836]\n",
            " [   1  111  748 ...  655 2212    5]\n",
            " ...\n",
            " [   1   13 1408 ...    0    0    0]\n",
            " [   1   11  119 ...    0    0    0]\n",
            " [   1    6   52 ...    0    0    0]]\n",
            "\n",
            "[0 1 1 ... 0 0 0]\n"
          ]
        }
      ]
    },
    {
      "source": [
        "new_review = \"I was thoroughly disappointed by this film. It was a complete waste of time.\"\n",
        "# Tokenize and preprocess the new review\n",
        "word_index = imdb.get_word_index()\n",
        "sequence = [[word_index.get(word, 0) for word in new_review.lower().split()]]\n",
        "padded_sequence = pad_sequences(sequence, maxlen=maxlen, padding='post', truncating='post')\n",
        "\n",
        "# Predict the sentiment\n",
        "prediction = model.predict(padded_sequence)\n",
        "sentiment = \"Positive\" if prediction[0] > 0.5 else \"Negative\"\n",
        "print(f\"The sentiment of the review is: {sentiment}\")"
      ],
      "cell_type": "code",
      "metadata": {
        "colab": {
          "base_uri": "https://localhost:8080/"
        },
        "id": "CnB0fD0TQS1s",
        "outputId": "67f3cbad-35e0-4bd6-ff04-4e996fed4a82"
      },
      "execution_count": null,
      "outputs": [
        {
          "output_type": "stream",
          "name": "stdout",
          "text": [
            "\u001b[1m1/1\u001b[0m \u001b[32m━━━━━━━━━━━━━━━━━━━━\u001b[0m\u001b[37m\u001b[0m \u001b[1m0s\u001b[0m 104ms/step\n",
            "The sentiment of the review is: Negative\n"
          ]
        }
      ]
    }
  ]
}